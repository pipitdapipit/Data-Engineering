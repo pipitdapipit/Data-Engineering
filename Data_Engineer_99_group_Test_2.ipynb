{
  "nbformat": 4,
  "nbformat_minor": 0,
  "metadata": {
    "colab": {
      "provenance": []
    },
    "kernelspec": {
      "name": "python3",
      "display_name": "Python 3"
    },
    "language_info": {
      "name": "python"
    }
  },
  "cells": [
    {
      "cell_type": "code",
      "source": [
        "#Import data\n",
        "import pandas as pd\n",
        "import matplotlib.pyplot as plt\n",
        "data = pd.read_csv('/content/listings.csv', delimiter= ',')\n",
        "data.head()"
      ],
      "metadata": {
        "colab": {
          "base_uri": "https://localhost:8080/",
          "height": 206
        },
        "id": "NALNILnXXgtn",
        "outputId": "19b21563-0124-4e0e-e354-f368e442547b"
      },
      "execution_count": 2,
      "outputs": [
        {
          "output_type": "execute_result",
          "data": {
            "text/plain": [
              "             id     _ptype _ltype         price  kabkoId  bedRooms  bathRooms  \\\n",
              "0  1.732279e+11  apartment   sale  9.120978e+08    618.0       1.0        1.0   \n",
              "1  1.277775e+11      house   rent  3.084582e+07      NaN       5.0        5.0   \n",
              "2  1.642203e+11  apartment   sale  9.806484e+08    608.0       3.0        2.0   \n",
              "3  9.846768e+10  apartment   sale  2.403327e+08    618.0       NaN        1.0   \n",
              "4  3.503346e+10        NaN   sale  1.200992e+09    618.0       3.0        2.0   \n",
              "\n",
              "   landSize  buildingSize  garages sold  \n",
              "0       0.0           NaN      0.0   no  \n",
              "1     150.0         174.0      0.0   no  \n",
              "2       0.0          51.0      0.0  NaN  \n",
              "3       0.0          16.0      0.0   no  \n",
              "4     136.0          93.0      0.0   no  "
            ],
            "text/html": [
              "\n",
              "  <div id=\"df-60dc82b1-d0f3-42c6-9052-99e35572655f\" class=\"colab-df-container\">\n",
              "    <div>\n",
              "<style scoped>\n",
              "    .dataframe tbody tr th:only-of-type {\n",
              "        vertical-align: middle;\n",
              "    }\n",
              "\n",
              "    .dataframe tbody tr th {\n",
              "        vertical-align: top;\n",
              "    }\n",
              "\n",
              "    .dataframe thead th {\n",
              "        text-align: right;\n",
              "    }\n",
              "</style>\n",
              "<table border=\"1\" class=\"dataframe\">\n",
              "  <thead>\n",
              "    <tr style=\"text-align: right;\">\n",
              "      <th></th>\n",
              "      <th>id</th>\n",
              "      <th>_ptype</th>\n",
              "      <th>_ltype</th>\n",
              "      <th>price</th>\n",
              "      <th>kabkoId</th>\n",
              "      <th>bedRooms</th>\n",
              "      <th>bathRooms</th>\n",
              "      <th>landSize</th>\n",
              "      <th>buildingSize</th>\n",
              "      <th>garages</th>\n",
              "      <th>sold</th>\n",
              "    </tr>\n",
              "  </thead>\n",
              "  <tbody>\n",
              "    <tr>\n",
              "      <th>0</th>\n",
              "      <td>1.732279e+11</td>\n",
              "      <td>apartment</td>\n",
              "      <td>sale</td>\n",
              "      <td>9.120978e+08</td>\n",
              "      <td>618.0</td>\n",
              "      <td>1.0</td>\n",
              "      <td>1.0</td>\n",
              "      <td>0.0</td>\n",
              "      <td>NaN</td>\n",
              "      <td>0.0</td>\n",
              "      <td>no</td>\n",
              "    </tr>\n",
              "    <tr>\n",
              "      <th>1</th>\n",
              "      <td>1.277775e+11</td>\n",
              "      <td>house</td>\n",
              "      <td>rent</td>\n",
              "      <td>3.084582e+07</td>\n",
              "      <td>NaN</td>\n",
              "      <td>5.0</td>\n",
              "      <td>5.0</td>\n",
              "      <td>150.0</td>\n",
              "      <td>174.0</td>\n",
              "      <td>0.0</td>\n",
              "      <td>no</td>\n",
              "    </tr>\n",
              "    <tr>\n",
              "      <th>2</th>\n",
              "      <td>1.642203e+11</td>\n",
              "      <td>apartment</td>\n",
              "      <td>sale</td>\n",
              "      <td>9.806484e+08</td>\n",
              "      <td>608.0</td>\n",
              "      <td>3.0</td>\n",
              "      <td>2.0</td>\n",
              "      <td>0.0</td>\n",
              "      <td>51.0</td>\n",
              "      <td>0.0</td>\n",
              "      <td>NaN</td>\n",
              "    </tr>\n",
              "    <tr>\n",
              "      <th>3</th>\n",
              "      <td>9.846768e+10</td>\n",
              "      <td>apartment</td>\n",
              "      <td>sale</td>\n",
              "      <td>2.403327e+08</td>\n",
              "      <td>618.0</td>\n",
              "      <td>NaN</td>\n",
              "      <td>1.0</td>\n",
              "      <td>0.0</td>\n",
              "      <td>16.0</td>\n",
              "      <td>0.0</td>\n",
              "      <td>no</td>\n",
              "    </tr>\n",
              "    <tr>\n",
              "      <th>4</th>\n",
              "      <td>3.503346e+10</td>\n",
              "      <td>NaN</td>\n",
              "      <td>sale</td>\n",
              "      <td>1.200992e+09</td>\n",
              "      <td>618.0</td>\n",
              "      <td>3.0</td>\n",
              "      <td>2.0</td>\n",
              "      <td>136.0</td>\n",
              "      <td>93.0</td>\n",
              "      <td>0.0</td>\n",
              "      <td>no</td>\n",
              "    </tr>\n",
              "  </tbody>\n",
              "</table>\n",
              "</div>\n",
              "    <div class=\"colab-df-buttons\">\n",
              "\n",
              "  <div class=\"colab-df-container\">\n",
              "    <button class=\"colab-df-convert\" onclick=\"convertToInteractive('df-60dc82b1-d0f3-42c6-9052-99e35572655f')\"\n",
              "            title=\"Convert this dataframe to an interactive table.\"\n",
              "            style=\"display:none;\">\n",
              "\n",
              "  <svg xmlns=\"http://www.w3.org/2000/svg\" height=\"24px\" viewBox=\"0 -960 960 960\">\n",
              "    <path d=\"M120-120v-720h720v720H120Zm60-500h600v-160H180v160Zm220 220h160v-160H400v160Zm0 220h160v-160H400v160ZM180-400h160v-160H180v160Zm440 0h160v-160H620v160ZM180-180h160v-160H180v160Zm440 0h160v-160H620v160Z\"/>\n",
              "  </svg>\n",
              "    </button>\n",
              "\n",
              "  <style>\n",
              "    .colab-df-container {\n",
              "      display:flex;\n",
              "      gap: 12px;\n",
              "    }\n",
              "\n",
              "    .colab-df-convert {\n",
              "      background-color: #E8F0FE;\n",
              "      border: none;\n",
              "      border-radius: 50%;\n",
              "      cursor: pointer;\n",
              "      display: none;\n",
              "      fill: #1967D2;\n",
              "      height: 32px;\n",
              "      padding: 0 0 0 0;\n",
              "      width: 32px;\n",
              "    }\n",
              "\n",
              "    .colab-df-convert:hover {\n",
              "      background-color: #E2EBFA;\n",
              "      box-shadow: 0px 1px 2px rgba(60, 64, 67, 0.3), 0px 1px 3px 1px rgba(60, 64, 67, 0.15);\n",
              "      fill: #174EA6;\n",
              "    }\n",
              "\n",
              "    .colab-df-buttons div {\n",
              "      margin-bottom: 4px;\n",
              "    }\n",
              "\n",
              "    [theme=dark] .colab-df-convert {\n",
              "      background-color: #3B4455;\n",
              "      fill: #D2E3FC;\n",
              "    }\n",
              "\n",
              "    [theme=dark] .colab-df-convert:hover {\n",
              "      background-color: #434B5C;\n",
              "      box-shadow: 0px 1px 3px 1px rgba(0, 0, 0, 0.15);\n",
              "      filter: drop-shadow(0px 1px 2px rgba(0, 0, 0, 0.3));\n",
              "      fill: #FFFFFF;\n",
              "    }\n",
              "  </style>\n",
              "\n",
              "    <script>\n",
              "      const buttonEl =\n",
              "        document.querySelector('#df-60dc82b1-d0f3-42c6-9052-99e35572655f button.colab-df-convert');\n",
              "      buttonEl.style.display =\n",
              "        google.colab.kernel.accessAllowed ? 'block' : 'none';\n",
              "\n",
              "      async function convertToInteractive(key) {\n",
              "        const element = document.querySelector('#df-60dc82b1-d0f3-42c6-9052-99e35572655f');\n",
              "        const dataTable =\n",
              "          await google.colab.kernel.invokeFunction('convertToInteractive',\n",
              "                                                    [key], {});\n",
              "        if (!dataTable) return;\n",
              "\n",
              "        const docLinkHtml = 'Like what you see? Visit the ' +\n",
              "          '<a target=\"_blank\" href=https://colab.research.google.com/notebooks/data_table.ipynb>data table notebook</a>'\n",
              "          + ' to learn more about interactive tables.';\n",
              "        element.innerHTML = '';\n",
              "        dataTable['output_type'] = 'display_data';\n",
              "        await google.colab.output.renderOutput(dataTable, element);\n",
              "        const docLink = document.createElement('div');\n",
              "        docLink.innerHTML = docLinkHtml;\n",
              "        element.appendChild(docLink);\n",
              "      }\n",
              "    </script>\n",
              "  </div>\n",
              "\n",
              "\n",
              "<div id=\"df-454e25c7-6fbc-49e9-b8b4-d41dba7e1242\">\n",
              "  <button class=\"colab-df-quickchart\" onclick=\"quickchart('df-454e25c7-6fbc-49e9-b8b4-d41dba7e1242')\"\n",
              "            title=\"Suggest charts\"\n",
              "            style=\"display:none;\">\n",
              "\n",
              "<svg xmlns=\"http://www.w3.org/2000/svg\" height=\"24px\"viewBox=\"0 0 24 24\"\n",
              "     width=\"24px\">\n",
              "    <g>\n",
              "        <path d=\"M19 3H5c-1.1 0-2 .9-2 2v14c0 1.1.9 2 2 2h14c1.1 0 2-.9 2-2V5c0-1.1-.9-2-2-2zM9 17H7v-7h2v7zm4 0h-2V7h2v10zm4 0h-2v-4h2v4z\"/>\n",
              "    </g>\n",
              "</svg>\n",
              "  </button>\n",
              "\n",
              "<style>\n",
              "  .colab-df-quickchart {\n",
              "      --bg-color: #E8F0FE;\n",
              "      --fill-color: #1967D2;\n",
              "      --hover-bg-color: #E2EBFA;\n",
              "      --hover-fill-color: #174EA6;\n",
              "      --disabled-fill-color: #AAA;\n",
              "      --disabled-bg-color: #DDD;\n",
              "  }\n",
              "\n",
              "  [theme=dark] .colab-df-quickchart {\n",
              "      --bg-color: #3B4455;\n",
              "      --fill-color: #D2E3FC;\n",
              "      --hover-bg-color: #434B5C;\n",
              "      --hover-fill-color: #FFFFFF;\n",
              "      --disabled-bg-color: #3B4455;\n",
              "      --disabled-fill-color: #666;\n",
              "  }\n",
              "\n",
              "  .colab-df-quickchart {\n",
              "    background-color: var(--bg-color);\n",
              "    border: none;\n",
              "    border-radius: 50%;\n",
              "    cursor: pointer;\n",
              "    display: none;\n",
              "    fill: var(--fill-color);\n",
              "    height: 32px;\n",
              "    padding: 0;\n",
              "    width: 32px;\n",
              "  }\n",
              "\n",
              "  .colab-df-quickchart:hover {\n",
              "    background-color: var(--hover-bg-color);\n",
              "    box-shadow: 0 1px 2px rgba(60, 64, 67, 0.3), 0 1px 3px 1px rgba(60, 64, 67, 0.15);\n",
              "    fill: var(--button-hover-fill-color);\n",
              "  }\n",
              "\n",
              "  .colab-df-quickchart-complete:disabled,\n",
              "  .colab-df-quickchart-complete:disabled:hover {\n",
              "    background-color: var(--disabled-bg-color);\n",
              "    fill: var(--disabled-fill-color);\n",
              "    box-shadow: none;\n",
              "  }\n",
              "\n",
              "  .colab-df-spinner {\n",
              "    border: 2px solid var(--fill-color);\n",
              "    border-color: transparent;\n",
              "    border-bottom-color: var(--fill-color);\n",
              "    animation:\n",
              "      spin 1s steps(1) infinite;\n",
              "  }\n",
              "\n",
              "  @keyframes spin {\n",
              "    0% {\n",
              "      border-color: transparent;\n",
              "      border-bottom-color: var(--fill-color);\n",
              "      border-left-color: var(--fill-color);\n",
              "    }\n",
              "    20% {\n",
              "      border-color: transparent;\n",
              "      border-left-color: var(--fill-color);\n",
              "      border-top-color: var(--fill-color);\n",
              "    }\n",
              "    30% {\n",
              "      border-color: transparent;\n",
              "      border-left-color: var(--fill-color);\n",
              "      border-top-color: var(--fill-color);\n",
              "      border-right-color: var(--fill-color);\n",
              "    }\n",
              "    40% {\n",
              "      border-color: transparent;\n",
              "      border-right-color: var(--fill-color);\n",
              "      border-top-color: var(--fill-color);\n",
              "    }\n",
              "    60% {\n",
              "      border-color: transparent;\n",
              "      border-right-color: var(--fill-color);\n",
              "    }\n",
              "    80% {\n",
              "      border-color: transparent;\n",
              "      border-right-color: var(--fill-color);\n",
              "      border-bottom-color: var(--fill-color);\n",
              "    }\n",
              "    90% {\n",
              "      border-color: transparent;\n",
              "      border-bottom-color: var(--fill-color);\n",
              "    }\n",
              "  }\n",
              "</style>\n",
              "\n",
              "  <script>\n",
              "    async function quickchart(key) {\n",
              "      const quickchartButtonEl =\n",
              "        document.querySelector('#' + key + ' button');\n",
              "      quickchartButtonEl.disabled = true;  // To prevent multiple clicks.\n",
              "      quickchartButtonEl.classList.add('colab-df-spinner');\n",
              "      try {\n",
              "        const charts = await google.colab.kernel.invokeFunction(\n",
              "            'suggestCharts', [key], {});\n",
              "      } catch (error) {\n",
              "        console.error('Error during call to suggestCharts:', error);\n",
              "      }\n",
              "      quickchartButtonEl.classList.remove('colab-df-spinner');\n",
              "      quickchartButtonEl.classList.add('colab-df-quickchart-complete');\n",
              "    }\n",
              "    (() => {\n",
              "      let quickchartButtonEl =\n",
              "        document.querySelector('#df-454e25c7-6fbc-49e9-b8b4-d41dba7e1242 button');\n",
              "      quickchartButtonEl.style.display =\n",
              "        google.colab.kernel.accessAllowed ? 'block' : 'none';\n",
              "    })();\n",
              "  </script>\n",
              "</div>\n",
              "\n",
              "    </div>\n",
              "  </div>\n"
            ],
            "application/vnd.google.colaboratory.intrinsic+json": {
              "type": "dataframe",
              "variable_name": "data",
              "summary": "{\n  \"name\": \"data\",\n  \"rows\": 1000,\n  \"fields\": [\n    {\n      \"column\": \"id\",\n      \"properties\": {\n        \"dtype\": \"number\",\n        \"std\": 3254151466481.9067,\n        \"min\": 17735123463.0,\n        \"max\": 17581223111750.0,\n        \"num_unique_values\": 957,\n        \"samples\": [\n          137460893136.0,\n          65815608760.0,\n          145464522000.0\n        ],\n        \"semantic_type\": \"\",\n        \"description\": \"\"\n      }\n    },\n    {\n      \"column\": \"_ptype\",\n      \"properties\": {\n        \"dtype\": \"category\",\n        \"num_unique_values\": 2,\n        \"samples\": [\n          \"house\",\n          \"apartment\"\n        ],\n        \"semantic_type\": \"\",\n        \"description\": \"\"\n      }\n    },\n    {\n      \"column\": \"_ltype\",\n      \"properties\": {\n        \"dtype\": \"category\",\n        \"num_unique_values\": 2,\n        \"samples\": [\n          \"rent\",\n          \"sale\"\n        ],\n        \"semantic_type\": \"\",\n        \"description\": \"\"\n      }\n    },\n    {\n      \"column\": \"price\",\n      \"properties\": {\n        \"dtype\": \"number\",\n        \"std\": 2261553600.208122,\n        \"min\": 285519.0,\n        \"max\": 23702122879.0,\n        \"num_unique_values\": 958,\n        \"samples\": [\n          376698302.0,\n          1080364501.0\n        ],\n        \"semantic_type\": \"\",\n        \"description\": \"\"\n      }\n    },\n    {\n      \"column\": \"kabkoId\",\n      \"properties\": {\n        \"dtype\": \"number\",\n        \"std\": 4.571573373909192,\n        \"min\": 608.0,\n        \"max\": 618.0,\n        \"num_unique_values\": 2,\n        \"samples\": [\n          608.0,\n          618.0\n        ],\n        \"semantic_type\": \"\",\n        \"description\": \"\"\n      }\n    },\n    {\n      \"column\": \"bedRooms\",\n      \"properties\": {\n        \"dtype\": \"number\",\n        \"std\": 1.144746277772611,\n        \"min\": 0.0,\n        \"max\": 9.0,\n        \"num_unique_values\": 9,\n        \"samples\": [\n          6.0,\n          5.0\n        ],\n        \"semantic_type\": \"\",\n        \"description\": \"\"\n      }\n    },\n    {\n      \"column\": \"bathRooms\",\n      \"properties\": {\n        \"dtype\": \"number\",\n        \"std\": 1.328066676661756,\n        \"min\": -1.0,\n        \"max\": 12.0,\n        \"num_unique_values\": 10,\n        \"samples\": [\n          -1.0,\n          5.0\n        ],\n        \"semantic_type\": \"\",\n        \"description\": \"\"\n      }\n    },\n    {\n      \"column\": \"landSize\",\n      \"properties\": {\n        \"dtype\": \"number\",\n        \"std\": 764.2611537483177,\n        \"min\": 0.0,\n        \"max\": 23514.0,\n        \"num_unique_values\": 185,\n        \"samples\": [\n          54.0,\n          135.0\n        ],\n        \"semantic_type\": \"\",\n        \"description\": \"\"\n      }\n    },\n    {\n      \"column\": \"buildingSize\",\n      \"properties\": {\n        \"dtype\": \"number\",\n        \"std\": 421.1934301668991,\n        \"min\": 0.0,\n        \"max\": 8190.0,\n        \"num_unique_values\": 211,\n        \"samples\": [\n          35.0,\n          124.0\n        ],\n        \"semantic_type\": \"\",\n        \"description\": \"\"\n      }\n    },\n    {\n      \"column\": \"garages\",\n      \"properties\": {\n        \"dtype\": \"number\",\n        \"std\": 0.6395661128418586,\n        \"min\": 0.0,\n        \"max\": 4.0,\n        \"num_unique_values\": 5,\n        \"samples\": [\n          1.0,\n          3.0\n        ],\n        \"semantic_type\": \"\",\n        \"description\": \"\"\n      }\n    },\n    {\n      \"column\": \"sold\",\n      \"properties\": {\n        \"dtype\": \"category\",\n        \"num_unique_values\": 2,\n        \"samples\": [\n          \"yes\",\n          \"no\"\n        ],\n        \"semantic_type\": \"\",\n        \"description\": \"\"\n      }\n    }\n  ]\n}"
            }
          },
          "metadata": {},
          "execution_count": 2
        }
      ]
    },
    {
      "cell_type": "code",
      "source": [
        "#How many null datas\n",
        "duplicate_data = data.duplicated().sum()\n",
        "print(\"Duplicate Data: \", duplicate_data)\n",
        "\n",
        "null_data = data.isnull().sum()\n",
        "print(\"\\nNull Data in every column\")\n",
        "print(null_data)\n",
        "\n",
        "total_null_data = null_data.sum()\n",
        "print(\"\\nTotal Null Data: \", total_null_data)"
      ],
      "metadata": {
        "colab": {
          "base_uri": "https://localhost:8080/"
        },
        "id": "eUq7ALzbb3To",
        "outputId": "679ff96c-7614-4f88-e088-74cc1ba06939"
      },
      "execution_count": 21,
      "outputs": [
        {
          "output_type": "stream",
          "name": "stdout",
          "text": [
            "Duplicate Data:  0\n",
            "\n",
            "Null Data in every column\n",
            "id               43\n",
            "_ptype           53\n",
            "_ltype           49\n",
            "price            42\n",
            "kabkoId          47\n",
            "bedRooms         52\n",
            "bathRooms        55\n",
            "landSize         46\n",
            "buildingSize     63\n",
            "garages          46\n",
            "sold            146\n",
            "dtype: int64\n",
            "\n",
            "Total Null Data:  642\n"
          ]
        }
      ]
    },
    {
      "cell_type": "code",
      "source": [
        "not_null_data = (data.notnull().sum())/10\n",
        "print(\"\\nNull Data in every column\")\n",
        "print(not_null_data)"
      ],
      "metadata": {
        "colab": {
          "base_uri": "https://localhost:8080/"
        },
        "id": "Ny6l5tAmeJXW",
        "outputId": "0252f1ce-365d-45c2-ae11-574ecef5c5ea"
      },
      "execution_count": 33,
      "outputs": [
        {
          "output_type": "stream",
          "name": "stdout",
          "text": [
            "\n",
            "Null Data in every column\n",
            "id              95.7\n",
            "_ptype          94.7\n",
            "_ltype          95.1\n",
            "price           95.8\n",
            "kabkoId         95.3\n",
            "bedRooms        94.8\n",
            "bathRooms       94.5\n",
            "landSize        95.4\n",
            "buildingSize    93.7\n",
            "garages         95.4\n",
            "sold            85.4\n",
            "dtype: float64\n"
          ]
        }
      ]
    },
    {
      "cell_type": "code",
      "source": [
        "# Clean Data From Null Data (NA)\n",
        "clean_data = data.dropna()\n",
        "print(clean_data)\n",
        "\n",
        "null_data = clean_data.isnull().sum()\n",
        "\n",
        "total_null_data = null_data.sum()\n",
        "print(\"\\nTotal Null Data: \", total_null_data)"
      ],
      "metadata": {
        "colab": {
          "base_uri": "https://localhost:8080/"
        },
        "id": "cNjDU3R3akHx",
        "outputId": "296079e2-3752-4011-b431-3a8254fd6514"
      },
      "execution_count": 23,
      "outputs": [
        {
          "output_type": "stream",
          "name": "stdout",
          "text": [
            "               id     _ptype _ltype         price  kabkoId  bedRooms  \\\n",
            "5    1.203839e+11      house   sale  2.160444e+09    608.0       3.0   \n",
            "7    7.053384e+12      house   sale  7.108633e+08    608.0       3.0   \n",
            "12   8.764419e+10      house   rent  3.642785e+07    618.0       3.0   \n",
            "13   8.139043e+12      house   sale  1.680234e+09    618.0       3.0   \n",
            "15   6.821051e+10      house   sale  3.600645e+09    618.0       3.0   \n",
            "..            ...        ...    ...           ...      ...       ...   \n",
            "985  5.671043e+10      house   sale  4.520905e+09    608.0       4.0   \n",
            "989  1.362093e+11  apartment   sale  6.815428e+08    618.0       1.0   \n",
            "993  1.731224e+11      house   sale  8.000742e+09    608.0       3.0   \n",
            "994  1.564745e+13      house   sale  4.800352e+08    618.0       3.0   \n",
            "995  1.434351e+11      house   sale  4.767320e+08    618.0       3.0   \n",
            "\n",
            "     bathRooms  landSize  buildingSize  garages sold  \n",
            "5          3.0      96.0         108.0      0.0   no  \n",
            "7          2.0      42.0          42.0      0.0   no  \n",
            "12         2.0      61.0          71.0      0.0   no  \n",
            "13         3.0      90.0          75.0      0.0   no  \n",
            "15         3.0     236.0         255.0      1.0  yes  \n",
            "..         ...       ...           ...      ...  ...  \n",
            "985        5.0     135.0         148.0      0.0   no  \n",
            "989        1.0       0.0          27.0      0.0   no  \n",
            "993        3.0     225.0         212.0      0.0   no  \n",
            "994        2.0      51.0          37.0      2.0  yes  \n",
            "995        2.0      45.0          37.0      0.0   no  \n",
            "\n",
            "[514 rows x 11 columns]\n",
            "\n",
            "Total Null Data:  0\n"
          ]
        }
      ]
    },
    {
      "cell_type": "code",
      "source": [
        "#_Ptype column\n",
        "count_ptype = clean_data['_ptype'].value_counts()\n",
        "count_ptype.plot.bar()\n",
        "plt.xlabel('Type')\n",
        "plt.ylabel('Property Type Count')\n",
        "plt.title('Property Type')\n",
        "plt.xticks(rotation=0)\n",
        "plt.show()"
      ],
      "metadata": {
        "colab": {
          "base_uri": "https://localhost:8080/",
          "height": 472
        },
        "id": "e0nY1HWJc94j",
        "outputId": "68978cda-764b-4e26-f58e-e04d50b6c21f"
      },
      "execution_count": 5,
      "outputs": [
        {
          "output_type": "display_data",
          "data": {
            "text/plain": [
              "<Figure size 640x480 with 1 Axes>"
            ],
            "image/png": "[encoded data removed]"
          },
          "metadata": {}
        }
      ]
    },
    {
      "cell_type": "code",
      "source": [
        "#_ltype column\n",
        "# Count\n",
        "count_ltype = clean_data['_ltype'].value_counts()\n",
        "print(count_ltype)\n",
        "count_ltype = count_ltype.plot.bar()\n",
        "plt.title('Listing Type')\n",
        "plt.xlabel('Type')\n",
        "plt.ylabel(\"Listing Type Count\")\n",
        "\n",
        "plt.xticks(rotation=0)\n",
        "plt.show()"
      ],
      "metadata": {
        "colab": {
          "base_uri": "https://localhost:8080/",
          "height": 545
        },
        "id": "235qq2F-fq-B",
        "outputId": "0870b305-211f-43a6-a586-5aad928dc8b7"
      },
      "execution_count": 6,
      "outputs": [
        {
          "output_type": "stream",
          "name": "stdout",
          "text": [
            "_ltype\n",
            "sale    454\n",
            "rent     60\n",
            "Name: count, dtype: int64\n"
          ]
        },
        {
          "output_type": "display_data",
          "data": {
            "text/plain": [
              "<Figure size 640x480 with 1 Axes>"
            ],
            "image/png": "[encoded data removed]"
          },
          "metadata": {}
        }
      ]
    },
    {
      "cell_type": "code",
      "source": [
        "# Price column\n",
        "# Mean\n",
        "mean_price = clean_data['price'].mean()\n",
        "print(\"Mean of Price: \", mean_price)\n",
        "\n",
        "# Median\n",
        "median_price = clean_data['price'].median()\n",
        "print(\"Median of Price: \", median_price)\n",
        "\n",
        "# Max\n",
        "max_price = clean_data['price'].max()\n",
        "print(\"Max of Price: \", max_price)\n",
        "\n",
        "# Min\n",
        "min_price = clean_data['price'].min()\n",
        "print(\"Min of Price: \", min_price)"
      ],
      "metadata": {
        "colab": {
          "base_uri": "https://localhost:8080/"
        },
        "id": "6Jh7v6p7wJpB",
        "outputId": "91874ed8-4e17-4e42-cbf6-d8f7be5d901a"
      },
      "execution_count": 7,
      "outputs": [
        {
          "output_type": "stream",
          "name": "stdout",
          "text": [
            "Mean of Price:  1776280683.2140079\n",
            "Median of Price:  1040562974.0\n",
            "Max of Price:  23702122879.0\n",
            "Min of Price:  1753393.0\n"
          ]
        }
      ]
    },
    {
      "cell_type": "code",
      "source": [
        "# KabkoId column\n",
        "count_kabkoId = clean_data['kabkoId'].value_counts()\n",
        "count_kabkoId = count_kabkoId.plot.bar()\n",
        "\n",
        "plt.title('KabkoId Data')\n",
        "plt.xlabel('Types')\n",
        "plt.ylabel('KabkoId Count')\n",
        "plt.xticks(rotation=0)\n",
        "plt.show()\n",
        "print(\"\")"
      ],
      "metadata": {
        "colab": {
          "base_uri": "https://localhost:8080/",
          "height": 490
        },
        "id": "SauFkOAav9hE",
        "outputId": "9a4394a2-5d82-47c4-c3fa-86f061c4bbbb"
      },
      "execution_count": 8,
      "outputs": [
        {
          "output_type": "display_data",
          "data": {
            "text/plain": [
              "<Figure size 640x480 with 1 Axes>"
            ],
            "image/png": "[encoded data removed]"
          },
          "metadata": {}
        },
        {
          "output_type": "stream",
          "name": "stdout",
          "text": [
            "\n"
          ]
        }
      ]
    },
    {
      "cell_type": "code",
      "source": [
        "# BedRoom column\n",
        "#Count\n",
        "count_bedrooms = clean_data['bedRooms'].value_counts()\n",
        "bedrooms = count_bedrooms.plot.bar()\n",
        "\n",
        "#Mean\n",
        "mean_bedrooms = clean_data['bedRooms'].mean()\n",
        "print(\"Mean of BedRooms: \", mean_bedrooms)\n",
        "\n",
        "#Median\n",
        "median_bedrooms = clean_data['bedRooms'].median()\n",
        "print(\"Median of BedRooms: \", median_bedrooms)\n",
        "\n",
        "#Min\n",
        "min_bedrooms = clean_data['bedRooms'].min()\n",
        "print(\"Min of BedRooms: \", min_bedrooms)\n",
        "\n",
        "#Max\n",
        "max_bedrooms = clean_data['bedRooms'].max()\n",
        "print(\"Max of BedRooms: \", max_bedrooms)\n",
        "\n",
        "plt.title('BedRooms Data')\n",
        "plt.xlabel('Types')\n",
        "plt.ylabel('BedRooms Count')\n",
        "plt.xticks(rotation=0)\n",
        "plt.show()"
      ],
      "metadata": {
        "colab": {
          "base_uri": "https://localhost:8080/",
          "height": 545
        },
        "id": "PpYT2IIv76I-",
        "outputId": "039c4bd6-7385-469e-adf0-b111863f1793"
      },
      "execution_count": 9,
      "outputs": [
        {
          "output_type": "stream",
          "name": "stdout",
          "text": [
            "Mean of BedRooms:  3.017509727626459\n",
            "Median of BedRooms:  3.0\n",
            "Min of BedRooms:  0.0\n",
            "Max of BedRooms:  7.0\n"
          ]
        },
        {
          "output_type": "display_data",
          "data": {
            "text/plain": [
              "<Figure size 640x480 with 1 Axes>"
            ],
            "image/png": "[encoded data removed]"
          },
          "metadata": {}
        }
      ]
    },
    {
      "cell_type": "code",
      "source": [
        "# Bathrooms column\n",
        "# Count\n",
        "count_bathrooms = clean_data['bathRooms'].value_counts()\n",
        "count_bathrooms = count_bathrooms.plot.bar()\n",
        "\n",
        "# Mean\n",
        "mean_bathrooms = clean_data['bathRooms'].mean()\n",
        "print(\"Mean of Bathrooms: \", mean_bathrooms)\n",
        "\n",
        "# Median\n",
        "median_bathrooms = clean_data['bathRooms'].median()\n",
        "print(\"Median of Bathrooms: \", median_bathrooms)\n",
        "\n",
        "# Min\n",
        "min_bathrooms = clean_data['bathRooms'].min()\n",
        "print(\"Mode of Bathrooms: \", min_bathrooms)\n",
        "\n",
        "# Max\n",
        "max_bathrooms = clean_data['bathRooms'].max()\n",
        "print(\"Max of Bathrooms: \", max_bathrooms)\n",
        "\n",
        "plt.title('BathRooms Data')\n",
        "plt.xlabel('Types')\n",
        "plt.ylabel('BedRooms Count')\n",
        "plt.xticks(rotation=0)\n",
        "plt.show()"
      ],
      "metadata": {
        "colab": {
          "base_uri": "https://localhost:8080/",
          "height": 545
        },
        "id": "fpGdtEeM8yIP",
        "outputId": "5f3287f5-c361-44fc-e149-81bee6e37dfa"
      },
      "execution_count": 10,
      "outputs": [
        {
          "output_type": "stream",
          "name": "stdout",
          "text": [
            "Mean of Bathrooms:  2.5038910505836576\n",
            "Median of Bathrooms:  2.0\n",
            "Mode of Bathrooms:  0.0\n",
            "Max of Bathrooms:  12.0\n"
          ]
        },
        {
          "output_type": "display_data",
          "data": {
            "text/plain": [
              "<Figure size 640x480 with 1 Axes>"
            ],
            "image/png": "[encoded data removed]"
          },
          "metadata": {}
        }
      ]
    },
    {
      "cell_type": "code",
      "source": [
        "# BuildingSize column\n",
        "# Mean\n",
        "mean_buildingSize = clean_data['buildingSize'].mean()\n",
        "print(\"Mean of BuildingSize: \", mean_buildingSize)\n",
        "\n",
        "# Median\n",
        "median_buildingSize = clean_data['buildingSize'].median()\n",
        "print(\"Median of BuildingSize: \", median_buildingSize)\n",
        "\n",
        "#Min\n",
        "min_buildingSize = clean_data['buildingSize'].min()\n",
        "print(\"Min of BuildingSize: \", min_buildingSize)\n",
        "\n",
        "#Max\n",
        "max_buildingSize = clean_data['buildingSize'].max()\n",
        "print(\"Max of BuildingSize: \", max_buildingSize)"
      ],
      "metadata": {
        "colab": {
          "base_uri": "https://localhost:8080/"
        },
        "id": "LoHmSH8BA8Li",
        "outputId": "e02c5034-9817-4fe0-d79c-da78753aaec3"
      },
      "execution_count": 35,
      "outputs": [
        {
          "output_type": "stream",
          "name": "stdout",
          "text": [
            "Mean of BuildingSize:  147.5544747081712\n",
            "Median of BuildingSize:  77.0\n",
            "Min of BuildingSize:  0.0\n",
            "Max of BuildingSize:  8190.0\n"
          ]
        }
      ]
    },
    {
      "cell_type": "code",
      "source": [
        "# Garages column\n",
        "count_garages = clean_data['garages'].value_counts()\n",
        "count_garages = count_garages.plot.bar()\n",
        "\n",
        "# Mean\n",
        "mean_garages = clean_data['garages'].mean()\n",
        "print(\"Mean of Garages: \", mean_garages)\n",
        "\n",
        "# Median\n",
        "median_garages = clean_data['garages'].median()\n",
        "print(\"Median of Garages: \", median_garages)\n",
        "\n",
        "# Min\n",
        "min_garages = clean_data['garages'].min()\n",
        "print(\"Min of Garages: \", min_garages)\n",
        "\n",
        "# Max\n",
        "max_garages = clean_data['garages'].max()\n",
        "print(\"Max of Garages: \", max_garages)\n",
        "\n",
        "plt.title('Garages Data')\n",
        "plt.xlabel('Types')\n",
        "plt.ylabel('Garages Count')\n",
        "plt.xticks(rotation=0)\n",
        "plt.show()"
      ],
      "metadata": {
        "colab": {
          "base_uri": "https://localhost:8080/",
          "height": 545
        },
        "id": "Qy3MjNG2vWjb",
        "outputId": "d71f0e46-bebc-4dd0-d743-dc44e8e2923c"
      },
      "execution_count": 12,
      "outputs": [
        {
          "output_type": "stream",
          "name": "stdout",
          "text": [
            "Mean of Garages:  0.27431906614785995\n",
            "Median of Garages:  0.0\n",
            "Min of Garages:  0.0\n",
            "Max of Garages:  4.0\n"
          ]
        },
        {
          "output_type": "display_data",
          "data": {
            "text/plain": [
              "<Figure size 640x480 with 1 Axes>"
            ],
            "image/png": "[encoded data removed]"
          },
          "metadata": {}
        }
      ]
    },
    {
      "cell_type": "code",
      "source": [
        "# Sold\n",
        "count_sold = clean_data['sold'].value_counts()\n",
        "count_sold = count_sold.plot.bar()\n",
        "\n",
        "plt.title('Sold Data')\n",
        "plt.xlabel('Types')\n",
        "plt.ylabel('Sold Count')\n",
        "plt.xticks(rotation=0)\n",
        "plt.show()"
      ],
      "metadata": {
        "colab": {
          "base_uri": "https://localhost:8080/",
          "height": 472
        },
        "id": "Rx2qLKAkvpT3",
        "outputId": "e51baca1-079d-4e4a-ee36-bde0cdce4396"
      },
      "execution_count": 13,
      "outputs": [
        {
          "output_type": "display_data",
          "data": {
            "text/plain": [
              "<Figure size 640x480 with 1 Axes>"
            ],
            "image/png": "[encoded data removed]"
          },
          "metadata": {}
        }
      ]
    }
  ]
}